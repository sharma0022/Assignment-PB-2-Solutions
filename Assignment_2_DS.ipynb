{
 "cells": [
  {
   "cell_type": "markdown",
   "id": "71810520",
   "metadata": {},
   "source": [
    "# Assignment 2 Solution"
   ]
  },
  {
   "cell_type": "raw",
   "id": "493fac10",
   "metadata": {},
   "source": [
    "Q.1.What are the two values of the Boolean data type? How do you write them?\n",
    "\n",
    "Ans:True and False are two values of the boolen data types. We have to use capital T and F and       with the rest of the word in lowercase"
   ]
  },
  {
   "cell_type": "code",
   "execution_count": 2,
   "id": "50e9e891",
   "metadata": {},
   "outputs": [
    {
     "name": "stdout",
     "output_type": "stream",
     "text": [
      "True <class 'bool'>\n",
      "False <class 'bool'>\n"
     ]
    }
   ],
   "source": [
    "c=True\n",
    "d=False\n",
    "print(c,type(c))\n",
    "print(d,type(d))"
   ]
  },
  {
   "cell_type": "markdown",
   "id": "6fa9cda2",
   "metadata": {},
   "source": [
    "Q.2. What are the three different types of Boolean operators?\n",
    "\n",
    "Ans: There are three different types of Boolean operators: and, or, and not.  \n",
    "     The \"and\" operator is a logical conjunction that evaluates to true if and only if both of        the operands are true. For example:\n",
    "\n",
    "      (true and true) evaluates to true\n",
    "      (true and false) evaluates to false\n",
    "      (false and false) evaluates to false\n",
    "The \"or\" operator is a logical disjunction that evaluates to true if either of the operands is true. For example:\n",
    "\n",
    "      (true or true) evaluates to true\n",
    "      (true or false) evaluates to true\n",
    "      (false or false) evaluates to false\n",
    "The \"not\" operator is a logical negation that reverses the truth value of its operand. For example:\n",
    "\n",
    "       not true evaluates to false\n",
    "       not false evaluates to true\n",
    "These operators are often used in conditional statements and loops to control the flow of a program."
   ]
  },
  {
   "cell_type": "code",
   "execution_count": 8,
   "id": "ca67df41",
   "metadata": {},
   "outputs": [
    {
     "name": "stdout",
     "output_type": "stream",
     "text": [
      "True\n",
      "True\n",
      "False\n"
     ]
    }
   ],
   "source": [
    "a=400\n",
    "b=800\n",
    "print(a>100 and b>400) # Example of boolean and\n",
    "print(a>800 or b>400) # Example of boolean or\n",
    "print(not(a>100)) # Example of boolean not"
   ]
  },
  {
   "cell_type": "raw",
   "id": "bfa13531",
   "metadata": {},
   "source": [
    "Q.3. Make a list of each Boolean operator's truth tables (i.e. every possible combination of          Boolean values for the operator and what it evaluate ).\n",
    "\n",
    "Ans: Here are the truth tables for the three Boolean operators:\n",
    "\n",
    "AND (&&) operator:\n",
    "        Operand 1\tOperand 2\tResult\n",
    "        true\t    true     \ttrue\n",
    "        true\t    false\t    false\n",
    "        false    \ttrue\t    false\n",
    "        false\t    false\t    false       \n",
    "\n",
    "OR (||) operator:\n",
    "        Operand 1\tOperand 2\tResult\n",
    "        true      \ttrue\t    true\n",
    "        true\t    false\t    true\n",
    "        false\t    true\t    true\n",
    "        false\t    false\t    false\n",
    "NOT (!) operator:\n",
    "        Operand             \tResult\n",
    "        true\t                false\n",
    "        false\t                true"
   ]
  },
  {
   "cell_type": "raw",
   "id": "3805f06b",
   "metadata": {},
   "source": [
    "Q.4. What are the values of the following expressions?\n",
    "    (5 > 4) and (3 == 5)\n",
    "     not (5 > 4)\n",
    "    (5 > 4) or (3 == 5)\n",
    "    not ((5 > 4) or (3 == 5))\n",
    "    (True and True) and (True == False)\n",
    "    (not False) or (not True)\n",
    "\n",
    "Ans: Here are the values of the given expressions:\n",
    "\n",
    "*  (5 > 4) and (3 == 5) evaluates to true and false, which is false\n",
    "*  not (5 > 4) evaluates to not true, which is false\n",
    "*  (5 > 4) or (3 == 5) evaluates to true or false, which is true\n",
    "*  not ((5 > 4) or (3 == 5)) evaluates to not (true or false), which is not true, which is false\n",
    "*  (True and True) and (True == False) evaluates to true and false, which is false\n",
    "*  (not False) or (not True) evaluates to true or false, which is true"
   ]
  },
  {
   "cell_type": "code",
   "execution_count": 9,
   "id": "6f84d29e",
   "metadata": {},
   "outputs": [
    {
     "name": "stdout",
     "output_type": "stream",
     "text": [
      "False\n",
      "False\n",
      "True\n",
      "False\n",
      "False\n",
      "True\n"
     ]
    }
   ],
   "source": [
    "print((5>4)and(3==5)) # False\n",
    "print(not(5>4)) # False\n",
    "print((5>4)or(3==5)) # True\n",
    "print(not((5>4)or(3==5))) # False\n",
    "print((True and True)and(True==False)) # False\n",
    "print((not False)or(not True)) # True"
   ]
  },
  {
   "cell_type": "raw",
   "id": "5228d9b4",
   "metadata": {},
   "source": [
    "Q.5. What are the six comparison operators?\n",
    "\n",
    "Ans: The six comparison operators are:\n",
    "\n",
    "     Less than (<)\n",
    "     Greater than (>)\n",
    "     Less than or equal to (<=)\n",
    "     Greater than or equal to (>=)\n",
    "     Equal to (==)\n",
    "     Not equal to (!=)\n",
    "These operators are used to compare two values and determine whether one is greater than, less than, equal to, or not equal to the other. They are commonly used in control structures such as if statements and loops to make decisions based on the values of variables."
   ]
  },
  {
   "cell_type": "raw",
   "id": "714f8862",
   "metadata": {},
   "source": [
    "Q.6. How do you tell the difference between the equal to and assignment operators?Describe a          condition and when you would use one.\n",
    "\n",
    "Ans: The equal to operator (==) is used to compare two values to determine if they are equal. It      is a comparison operator and does not change the values of the operands.\n",
    "\n",
    "     The assignment operator (=) is used to assign a value to a variable. It changes the value of      the variable on the left side of the operator to the value of the expression on the right        side.\n",
    "     \n",
    "Here is an example of how to use the equal to operator:\n",
    "\n",
    "     if x == y:\n",
    "     print(\"x is equal to y\")\n",
    "\n",
    "Here is an example of how to use the assignment operator:\n",
    "\n",
    "     x = 5\n",
    "\n",
    "In this example, the value of x is changed to 5.\n",
    "\n",
    "It is important to distinguish between these two operators because using the wrong one can lead to errors in your code. For example, if i wrote the following code:\n",
    "\n",
    "     if x = y:\n",
    "     print(\"x is equal to y\")\n",
    "\n",
    "This would produce an error because the assignment operator (=) is being used in place of the equal to operator (==).\n",
    "\n",
    "To tell the difference between the two operators, i have to remember that the equal to operator has two equals signs (==) and the assignment operator has only one equals sign (=)."
   ]
  },
  {
   "cell_type": "code",
   "execution_count": 13,
   "id": "c0d8f6c5",
   "metadata": {},
   "outputs": [
    {
     "name": "stdout",
     "output_type": "stream",
     "text": [
      "True\n"
     ]
    }
   ],
   "source": [
    "#for example\n",
    "a=10 \n",
    "if a==10:\n",
    "    print(a==10)  "
   ]
  },
  {
   "cell_type": "raw",
   "id": "5449429b",
   "metadata": {},
   "source": [
    "Q.7. Identify the three blocks in this code:\n",
    "        spam = 0\n",
    "        if spam == 10:\n",
    "        print('eggs')\n",
    "        if spam > 5:\n",
    "        print('bacon')\n",
    "        else:\n",
    "        print('ham')\n",
    "        print('spam')\n",
    "        print('spam')\n",
    "        \n",
    "Ans: In this code, the three blocks are:\n",
    "\n",
    "1. The first if block:\n",
    "    if spam == 10:\n",
    "    print('eggs')\n",
    "\n",
    "2. The second if-else block:\n",
    "    if spam > 5:\n",
    "    print('bacon')\n",
    "    else:\n",
    "    print('ham')\n",
    "\n",
    "3. The final block of code:\n",
    "    print('spam')\n",
    "    print('spam')"
   ]
  },
  {
   "cell_type": "code",
   "execution_count": 16,
   "id": "24c64310",
   "metadata": {},
   "outputs": [
    {
     "name": "stdout",
     "output_type": "stream",
     "text": [
      "ham\n",
      "spam\n",
      "spam\n"
     ]
    }
   ],
   "source": [
    "spam = 0  \n",
    "if spam == 10:  \n",
    "    print('eggs')  # block #1\n",
    "if spam > 5:  \n",
    "    print('bacon')  # block #2\n",
    "else:  \n",
    "    print('ham')  # block #3\n",
    "print('spam')  \n",
    "print('spam')"
   ]
  },
  {
   "cell_type": "code",
   "execution_count": 47,
   "id": "271f1cfd",
   "metadata": {},
   "outputs": [
    {
     "name": "stdout",
     "output_type": "stream",
     "text": [
      "Hello\n",
      "Howdy\n",
      "Greetings\n"
     ]
    }
   ],
   "source": [
    "#Q.8. Write code that prints Hello if 1 is stored in spam, prints Howdy if 2 is stored in spam,        and prints Greetings! if anything else is stored in spam.\n",
    "\n",
    "def spamCode(spam):\n",
    "    if spam==10:\n",
    "        print('Hello')\n",
    "    elif spam==20:\n",
    "        print('Howdy')\n",
    "    else:\n",
    "        print('Greetings')\n",
    "        \n",
    "spamCode(10) \n",
    "spamCode(20)\n",
    "spamCode(30)"
   ]
  },
  {
   "cell_type": "raw",
   "id": "61c0ef2e",
   "metadata": {},
   "source": [
    "Q.9. If your programme is stuck in an endless loop, what keys you’ll press?\n",
    "\n",
    "Ans: If my program is stuck in an endless loop, i can try pressing the \"Ctrl\" + \"C\" keys on my        keyboard to terminate the program.\n",
    "\n",
    "* Alternatively, i can also try closing the terminal or command prompt window in which the         program is running. This should also terminate the program.\n",
    "\n",
    "* If these methods do not work, i have need to force quit the program by using the task manager     on my operating system. On Windows, i can do this by pressing \"Ctrl\" + \"Alt\" + \"Delete\" and       selecting the program from the list of running applications. On Mac, i can force quit an         application by opening the \"Force Quit Applications\" window (by pressing \"Command\" + \"Option\" +   \"Escape\") and selecting the program from the list.\n",
    "\n",
    "It is also a good idea to try to debug the program to identify the cause of the infinite loop and fix it. This will prevent the problem from occurring again in the future."
   ]
  },
  {
   "cell_type": "raw",
   "id": "af3520ef",
   "metadata": {},
   "source": [
    "Q.10. How can you tell the difference between break and continue?\n",
    "\n",
    "Ans: The \"break\" statement is used to exit a loop early, before it has completed all of its            iterations. When a \"break\" statement is encountered, the loop terminates immediately, and        the program continues with the next statement after the loop.\n",
    "\n",
    "     The \"continue\" statement, on the other hand, is used to skip the rest of the current              iteration of a loop and move on to the next one. When a \"continue\" statement is encountered,      the program jumps back to the beginning of the loop and starts the next iteration."
   ]
  },
  {
   "cell_type": "raw",
   "id": "55533a83",
   "metadata": {},
   "source": [
    "Q.11. In a for loop, what is the difference between range(10), range(0, 10), and range(0, 10, 1)?\n",
    "\n",
    "Ans:   It takes three arguments: start, stop, and step.\n",
    "\n",
    "       The start argument specifies the starting number of the sequence. The stop argument              specifies the stopping number of the sequence. The step argument specifies the difference        between each number in the sequence.\n",
    "\n",
    " Here is an example of how to use the range function:\n",
    "\n",
    "       for i in range(start, stop, step):\n",
    "       # code to be executed\n",
    "Here is a description of the three range function calls you mentioned:\n",
    "\n",
    "      range(10): This will generate a sequence of numbers starting from 0 and ending at 9 (10 -         1), with a step size of 1. The output of this call will be [0, 1, 2, 3, 4, 5, 6, 7, 8, 9].\n",
    "\n",
    "      range(0, 10): This will generate a sequence of numbers starting from 0 and ending at 9 (10       - 1), with a step size of 1. The output of this call will be the same as the previous             example: [0, 1, 2, 3, 4, 5, 6, 7, 8, 9].\n",
    "\n",
    "      range(0, 10, 1): This will generate a sequence of numbers starting from 0 and ending at 9         (10 - 1), with a step size of 1. Again, the output of this call will be the same as the           previous examples: [0, 1, 2, 3, 4, 5, 6, 7, 8, 9]. "
   ]
  },
  {
   "cell_type": "code",
   "execution_count": 44,
   "id": "ed7be25f",
   "metadata": {},
   "outputs": [
    {
     "name": "stdout",
     "output_type": "stream",
     "text": [
      "---------- Using For Loop ----------\n",
      "1 2 3 4 5 6 7 8 9 10 \n",
      "\n",
      "---------- Using While Loop ----------\n",
      "1 2 3 4 5 6 7 8 9 10 "
     ]
    }
   ],
   "source": [
    "#Q.12. Write a short program that prints the numbers 1 to 10 using a for loop. Then write an             equivalent program that prints the numbers 1 to 10 using a while loop.\n",
    "\n",
    "Ans: print('-'*10,'Using For Loop','-'*10)\n",
    "for i in range(1,11):\n",
    "    print(i, end=\" \")\n",
    "print('\\n')\n",
    "print('-'*10,'Using While Loop','-'*10) \n",
    "i=1\n",
    "while i<=10:\n",
    "    print(i, end=\" \")\n",
    "    i+=1"
   ]
  },
  {
   "cell_type": "raw",
   "id": "58525b92",
   "metadata": {},
   "source": [
    "Q.13. If you had a function named bacon() inside a module named spam, how would you call it after       importing spam?\n",
    "\n",
    "Ans:  This function can be called with spam.bacon()"
   ]
  }
 ],
 "metadata": {
  "kernelspec": {
   "display_name": "Python 3 (ipykernel)",
   "language": "python",
   "name": "python3"
  },
  "language_info": {
   "codemirror_mode": {
    "name": "ipython",
    "version": 3
   },
   "file_extension": ".py",
   "mimetype": "text/x-python",
   "name": "python",
   "nbconvert_exporter": "python",
   "pygments_lexer": "ipython3",
   "version": "3.9.12"
  }
 },
 "nbformat": 4,
 "nbformat_minor": 5
}
